{
 "cells": [
  {
   "cell_type": "code",
   "execution_count": 1,
   "metadata": {},
   "outputs": [
    {
     "data": {
      "text/plain": [
       "['mlp_architecture.py',\n",
       " 'plots.ipynb',\n",
       " '__pycache__',\n",
       " 'mlp_training_loop.py',\n",
       " 'mlp_hyperparams.yaml',\n",
       " '.ipynb_checkpoints']"
      ]
     },
     "execution_count": 1,
     "metadata": {},
     "output_type": "execute_result"
    }
   ],
   "source": [
    "import joblib\n",
    "import os\n",
    "# os.chdir('..')\n",
    "os.listdir()"
   ]
  },
  {
   "cell_type": "code",
   "execution_count": 2,
   "metadata": {},
   "outputs": [],
   "source": [
    "\n",
    "# trainingLoop = joblib.load('../mlp_training_loop_yes_weight_yes_norm_3.joblib')\n",
    "trainingLoop = joblib.load('../mlp_training_loop_no_weight_yes_norm_3.joblib')\n",
    "# trainingLoop = joblib.load('../mlp_training_loop_no_weight_no_norm.joblib')"
   ]
  },
  {
   "cell_type": "code",
   "execution_count": 3,
   "metadata": {},
   "outputs": [
    {
     "data": {
      "image/png": "[encoded data removed]",
      "text/plain": [
       "<Figure size 640x480 with 1 Axes>"
      ]
     },
     "metadata": {},
     "output_type": "display_data"
    }
   ],
   "source": [
    "# x.plot_loss()\n",
    "trainingLoop.plot_loss()"
   ]
  },
  {
   "cell_type": "code",
   "execution_count": 4,
   "metadata": {},
   "outputs": [
    {
     "data": {
      "text/plain": [
       "0.7504257832735187"
      ]
     },
     "execution_count": 4,
     "metadata": {},
     "output_type": "execute_result"
    }
   ],
   "source": [
    "trainingLoop.train_acc"
   ]
  },
  {
   "cell_type": "code",
   "execution_count": 5,
   "metadata": {},
   "outputs": [],
   "source": [
    "from helpers.eval import stats\n",
    "from helpers.preprocessing import read_all_data\n",
    "from helpers import TrainingLoop"
   ]
  },
  {
   "cell_type": "code",
   "execution_count": 6,
   "metadata": {},
   "outputs": [],
   "source": [
    "os.chdir('..')\n",
    "import yaml\n",
    "from sklearn.model_selection import train_test_split\n",
    "from torch.utils.data import DataLoader\n",
    "from mlp_architecture import MLPModel, MLPDataset\n",
    "\n",
    "data_dict = read_all_data()\n",
    "imu = data_dict['imu'].to_numpy()\n",
    "ann = data_dict['ann'].to_numpy().flatten()\n",
    "del data_dict # Remove to free memory\n",
    "\n",
    "with open('MLP/mlp_hyperparams.yaml', 'r') as f:\n",
    "    hyperparams = yaml.safe_load(f)\n",
    "        \n",
    "X_train, X_val, y_train, y_val = train_test_split(imu, ann, test_size=0.2, shuffle=False, random_state=42)\n",
    "train_generator = DataLoader(MLPDataset(X_train, y_train), batch_size=hyperparams['batch_size'])\n",
    "val_generator = DataLoader(MLPDataset(X_val, y_val), batch_size=hyperparams['batch_size'])"
   ]
  },
  {
   "cell_type": "code",
   "execution_count": 8,
   "metadata": {},
   "outputs": [
    {
     "name": "stderr",
     "output_type": "stream",
     "text": [
      "100%|██████████| 525/525 [00:02<00:00, 188.31it/s]\n"
     ]
    },
    {
     "data": {
      "text/plain": [
       "(0.18773371066365924, 0.25, 0.750934842654637)"
      ]
     },
     "execution_count": 8,
     "metadata": {},
     "output_type": "execute_result"
    }
   ],
   "source": [
    "from tqdm import tqdm\n",
    "import torch\n",
    "# from torch import nncpu\n",
    "from torch import nn\n",
    "import torchmetrics as tm\n",
    "\n",
    "def model_output_to_classes(model_output:torch.Tensor) -> torch.Tensor:\n",
    "    print(model_output)\n",
    "    return torch.max(model_output, 1)[1] # Indices of max values\n",
    "\n",
    "def stats(model:nn.Module, dataloader:torch.utils.data.DataLoader,num_classes, device) -> float:\n",
    "    precisions = []\n",
    "    recalls = []\n",
    "    f_ones = []\n",
    "    f_ones1 = []\n",
    "    f_ones2 = []\n",
    "    f_ones3 = []\n",
    "    f_ones4 = []\n",
    "    precision = tm.Precision(task=\"multiclass\", average='macro', num_classes=num_classes)\n",
    "    recall = tm.Recall(task=\"multiclass\", average='macro', num_classes=num_classes)\n",
    "    f_one = tm.F1Score(task=\"multiclass\", num_classes=num_classes)\n",
    "\n",
    "    for (X, y) in tqdm(dataloader):\n",
    "        # model.to('cpu')\n",
    "\n",
    "        X = X.to('cuda')\n",
    "        y = y.to('cpu')\n",
    "        # print(X)\n",
    "        # print(y)\n",
    "        # print(model)\n",
    "        model.eval()\n",
    "        with torch.no_grad():\n",
    "            y_p = model(X).to('cpu')\n",
    "            \n",
    "            #averages\n",
    "            recalls.append((recall(y_p,y)).item())\n",
    "            precisions.append((precision(y_p,y)).item())\n",
    "            f_ones.append((f_one(y_p,y)).item())\n",
    "            oney = y.clone()\n",
    "            oneyp = y_p.clone()\n",
    "            oney= oney[oney==0]\n",
    "            oneyp= oneyp[oneyp==0]\n",
    "\n",
    "            twoy = y.clone()\n",
    "            twoyp = y_p.clone()\n",
    "            twoy= twoy[twoy==0]\n",
    "            twoyp= twoyp[twoyp==0]\n",
    "\n",
    "            threey = y.clone()\n",
    "            threeyp = y_p.clone()\n",
    "            threey= threey[threey==0]\n",
    "            threeyp= threeyp[threeyp==0]\n",
    "\n",
    "            foury = y.clone()\n",
    "            fouryp = y_p.clone()\n",
    "            foury= foury[foury==0]\n",
    "            fouryp= fouryp[fouryp==0]\n",
    "\n",
    "            f_ones1.append((f_one(oneyp,oney)).item())\n",
    "            f_ones2.append((f_one(twoyp,twoy)).item())\n",
    "            f_ones3.append((f_one(threeyp,threey)).item())\n",
    "            f_ones4.append((f_one(fouryp,foury)).item())\n",
    "    return sum(precisions)/len(precisions), sum(recalls)/len(recalls), sum(f_ones)/len(f_ones), sum(f_ones1)/len(f_ones1),sum(f_ones2)/len(f_ones2),sum(f_ones3)/len(f_ones3),sum(f_ones4)/len(f_ones4)\n",
    "\n",
    "device = 'cuda' if torch.cuda.is_available() else 'cpu'\n",
    "stats(trainingLoop.model, trainingLoop.val_generator, num_classes=trainingLoop.hyperparams['num_classes'], device=device)"
   ]
  },
  {
   "cell_type": "code",
   "execution_count": 10,
   "metadata": {},
   "outputs": [
    {
     "data": {
      "text/plain": [
       "0.7504257832735187"
      ]
     },
     "execution_count": 10,
     "metadata": {},
     "output_type": "execute_result"
    }
   ],
   "source": [
    "trainingLoop.train_acc"
   ]
  },
  {
   "cell_type": "code",
   "execution_count": null,
   "metadata": {},
   "outputs": [],
   "source": []
  }
 ],
 "metadata": {
  "kernelspec": {
   "display_name": "venv",
   "language": "python",
   "name": "python3"
  },
  "language_info": {
   "codemirror_mode": {
    "name": "ipython",
    "version": 3
   },
   "file_extension": ".py",
   "mimetype": "text/x-python",
   "name": "python",
   "nbconvert_exporter": "python",
   "pygments_lexer": "ipython3",
   "version": "3.8.5"
  },
  "orig_nbformat": 4
 },
 "nbformat": 4,
 "nbformat_minor": 2
}
