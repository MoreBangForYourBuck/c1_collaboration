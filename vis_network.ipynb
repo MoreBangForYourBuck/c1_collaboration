{
 "cells": [
  {
   "cell_type": "code",
   "execution_count": 1,
   "metadata": {},
   "outputs": [],
   "source": [
    "from torchviz import make_dot\n",
    "import yaml\n",
    "from MLP.mlp_architecture import MLPModel\n",
    "from CNN.cnn_architecture import CNNModel\n",
    "from LSTM.lstm_architecture import LSTMModel\n",
    "import torch"
   ]
  },
  {
   "cell_type": "code",
   "execution_count": 2,
   "metadata": {},
   "outputs": [],
   "source": [
    "num_feats = 6"
   ]
  },
  {
   "attachments": {},
   "cell_type": "markdown",
   "metadata": {},
   "source": [
    "MLP"
   ]
  },
  {
   "cell_type": "code",
   "execution_count": 3,
   "metadata": {},
   "outputs": [
    {
     "data": {
      "text/plain": [
       "'torchviz/mlp_torchviz.png'"
      ]
     },
     "execution_count": 3,
     "metadata": {},
     "output_type": "execute_result"
    }
   ],
   "source": [
    "with open('MLP/mlp_hyperparams.yaml', 'r') as f:\n",
    "    hyperparams = yaml.safe_load(f)\n",
    "\n",
    "dummy_arr = torch.ones((hyperparams['batch_size'], num_feats))\n",
    "\n",
    "model = MLPModel(hyperparams['num_classes'])\n",
    "y_p = model(dummy_arr)\n",
    "\n",
    "make_dot(y_p, params=dict(model.named_parameters())).render('torchviz/mlp_torchviz', format='png')"
   ]
  },
  {
   "attachments": {},
   "cell_type": "markdown",
   "metadata": {},
   "source": [
    "CNN"
   ]
  },
  {
   "cell_type": "code",
   "execution_count": 21,
   "metadata": {},
   "outputs": [
    {
     "data": {
      "text/plain": [
       "'torchviz/cnn_torchviz.png'"
      ]
     },
     "execution_count": 21,
     "metadata": {},
     "output_type": "execute_result"
    }
   ],
   "source": [
    "with open('CNN/cnn_hyperparams.yaml', 'r') as f:\n",
    "    hyperparams = yaml.safe_load(f)\n",
    "\n",
    "dummy_arr = torch.ones((int(hyperparams['batch_size']*hyperparams['window_size']/4), num_feats)).T\n",
    "\n",
    "model = CNNModel(hyperparams['num_classes'], window_size=hyperparams['window_size'])\n",
    "y_p = model(dummy_arr)\n",
    "\n",
    "make_dot(y_p, params=dict(model.named_parameters())).render('torchviz/cnn_torchviz', format='png')\n"
   ]
  },
  {
   "cell_type": "code",
   "execution_count": null,
   "metadata": {},
   "outputs": [],
   "source": []
  }
 ],
 "metadata": {
  "kernelspec": {
   "display_name": "venv",
   "language": "python",
   "name": "python3"
  },
  "language_info": {
   "codemirror_mode": {
    "name": "ipython",
    "version": 3
   },
   "file_extension": ".py",
   "mimetype": "text/x-python",
   "name": "python",
   "nbconvert_exporter": "python",
   "pygments_lexer": "ipython3",
   "version": "3.8.5"
  },
  "orig_nbformat": 4
 },
 "nbformat": 4,
 "nbformat_minor": 2
}
